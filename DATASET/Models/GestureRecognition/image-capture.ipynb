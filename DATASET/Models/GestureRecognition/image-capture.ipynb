{
 "cells": [
  {
   "cell_type": "code",
   "execution_count": null,
   "metadata": {},
   "outputs": [],
   "source": [
    "# Import Libraries\n",
    "import cv2\n",
    "import os\n",
    "import time\n",
    "import uuid"
   ]
  },
  {
   "cell_type": "code",
   "execution_count": null,
   "metadata": {},
   "outputs": [],
   "source": [
    "IMAGE_PATH = r\"/home/girishm/Documents/MDX/robotics/fire-detection-rpi/DATASET/Models/GestureRecognition/RealTimeObjectDetection/Tensorflow/workspace/images/collectedImages\"\n",
    "GESTURE_LABELS = ['start', 'stop']\n",
    "numberOfImages = 15"
   ]
  },
  {
   "cell_type": "code",
   "execution_count": null,
   "metadata": {},
   "outputs": [],
   "source": [
    "for label in GESTURE_LABELS:\n",
    "    cap = cv2.VideoCapture(3)\n",
    "    print(f\"Collecting images for {label}\")\n",
    "    time.sleep(5)\n",
    "    for img_num in range(15):\n",
    "        ret, frame = cap.read()\n",
    "        image_name = os.path.join(\n",
    "            IMAGE_PATH, label, label + '.' + f'{str(uuid.uuid1())}.jpg')\n",
    "        cv2.imshow('frame', frame)\n",
    "        cv2.imwrite(image_name, frame)\n",
    "\n",
    "        time.sleep(2)\n",
    "\n",
    "        if cv2.waitKey(1) & 0xFF == ord('q'):\n",
    "            break\n",
    "    cap.release()\n"
   ]
  },
  {
   "cell_type": "code",
   "execution_count": null,
   "metadata": {},
   "outputs": [],
   "source": []
  }
 ],
 "metadata": {
  "kernelspec": {
   "display_name": "venv",
   "language": "python",
   "name": "python3"
  },
  "language_info": {
   "codemirror_mode": {
    "name": "ipython",
    "version": 3
   },
   "file_extension": ".py",
   "mimetype": "text/x-python",
   "name": "python",
   "nbconvert_exporter": "python",
   "pygments_lexer": "ipython3",
   "version": "3.10.9"
  },
  "orig_nbformat": 4,
  "vscode": {
   "interpreter": {
    "hash": "fc6839b14c48011a95f6636c6ae281c3554fa37dcd2e4f0fd43e02bb1d6d61f6"
   }
  }
 },
 "nbformat": 4,
 "nbformat_minor": 2
}
